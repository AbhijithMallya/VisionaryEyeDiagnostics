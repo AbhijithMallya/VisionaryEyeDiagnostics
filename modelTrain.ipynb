{
 "cells": [
  {
   "cell_type": "code",
   "execution_count": 1,
   "id": "73960425-ef87-4d94-a0d5-8dd3c106b7ad",
   "metadata": {},
   "outputs": [
    {
     "name": "stderr",
     "output_type": "stream",
     "text": [
      "2024-01-02 20:25:48.295700: I external/local_tsl/tsl/cuda/cudart_stub.cc:31] Could not find cuda drivers on your machine, GPU will not be used.\n",
      "2024-01-02 20:25:48.328129: E external/local_xla/xla/stream_executor/cuda/cuda_dnn.cc:9261] Unable to register cuDNN factory: Attempting to register factory for plugin cuDNN when one has already been registered\n",
      "2024-01-02 20:25:48.328156: E external/local_xla/xla/stream_executor/cuda/cuda_fft.cc:607] Unable to register cuFFT factory: Attempting to register factory for plugin cuFFT when one has already been registered\n",
      "2024-01-02 20:25:48.328985: E external/local_xla/xla/stream_executor/cuda/cuda_blas.cc:1515] Unable to register cuBLAS factory: Attempting to register factory for plugin cuBLAS when one has already been registered\n",
      "2024-01-02 20:25:48.333782: I external/local_tsl/tsl/cuda/cudart_stub.cc:31] Could not find cuda drivers on your machine, GPU will not be used.\n",
      "2024-01-02 20:25:48.334142: I tensorflow/core/platform/cpu_feature_guard.cc:182] This TensorFlow binary is optimized to use available CPU instructions in performance-critical operations.\n",
      "To enable the following instructions: AVX2 FMA, in other operations, rebuild TensorFlow with the appropriate compiler flags.\n",
      "2024-01-02 20:25:49.164333: W tensorflow/compiler/tf2tensorrt/utils/py_utils.cc:38] TF-TRT Warning: Could not find TensorRT\n"
     ]
    }
   ],
   "source": [
    "#Importing the necessary libraries\n",
    "import os\n",
    "import cv2\n",
    "import numpy as np\n",
    "from tensorflow import keras\n",
    "from sklearn.model_selection import train_test_split\n",
    "from sklearn.preprocessing import LabelEncoder\n",
    "from tensorflow.keras.utils import to_categorical\n",
    "from tensorflow.keras.models import Sequential\n",
    "from tensorflow.keras.layers import Flatten, Dense\n",
    "from tensorflow.keras.applications.resnet50 import ResNet50\n",
    "from sklearn.metrics import confusion_matrix, classification_report\n",
    "import matplotlib.pyplot as plt"
   ]
  },
  {
   "cell_type": "code",
   "execution_count": 2,
   "id": "a216a63c-f206-4bcf-ae23-1ca1f7f70bbd",
   "metadata": {},
   "outputs": [],
   "source": [
    "# Define the directory where your preprocessed images are stored\n",
    "base_dir = '/home/abhijithmallya/eyeDisease/dataset'\n",
    "\n",
    "# Define the image size\n",
    "image_size = (128, 128)\n",
    "\n",
    "# Define the mapping between folder names and labels\n",
    "label_mapping = {\n",
    "    'cataract': 0,\n",
    "    'diabetic_retinopathy': 1,\n",
    "    'glaucoma': 2,\n",
    "    'normal':3,\n",
    "}\n",
    "\n",
    "# Create empty lists to store images and labels\n",
    "images = []\n",
    "labels = []\n",
    "\n",
    "# Define the number of images to use for each class\n",
    "num_images_per_class = 1460  # Set the desired number of images per class\n"
   ]
  },
  {
   "cell_type": "code",
   "execution_count": 3,
   "id": "d24cb225-d484-4f96-b451-3d13e7da5427",
   "metadata": {},
   "outputs": [],
   "source": [
    "# Iterate over disease folders\n",
    "for folder, label in label_mapping.items():\n",
    "    # Construct the full path of the disease folder\n",
    "    folder_path = os.path.join(base_dir, folder)\n",
    "\n",
    "    # Get the list of image files within the disease folder\n",
    "    image_files = os.listdir(folder_path)\n",
    "\n",
    "    # Shuffle the image files\n",
    "    np.random.shuffle(image_files)\n",
    "\n",
    "    # Iterate over image files\n",
    "    for i, file_name in enumerate(image_files):\n",
    "        # Check if the desired number of images per class is reached\n",
    "        if i >= num_images_per_class:\n",
    "            break\n",
    "\n",
    "        # Construct the full file path\n",
    "        file_path = os.path.join(folder_path, file_name)\n",
    "\n",
    "        # Load the image\n",
    "        image = cv2.imread(file_path)\n",
    "\n",
    "        # Resize the image\n",
    "        resized_image = cv2.resize(image, image_size)\n",
    "\n",
    "        # Append the resized image to the list of images\n",
    "        images.append(resized_image)\n",
    "\n",
    "        # Append the label to the list of labels\n",
    "        labels.append(label)\n"
   ]
  },
  {
   "cell_type": "code",
   "execution_count": 4,
   "id": "623f08d2-8562-479a-8a90-39e28f94c6c2",
   "metadata": {},
   "outputs": [
    {
     "name": "stdout",
     "output_type": "stream",
     "text": [
      "Downloading data from https://storage.googleapis.com/tensorflow/keras-applications/resnet/resnet50_weights_tf_dim_ordering_tf_kernels_notop.h5\n",
      "94765736/94765736 [==============================] - 7s 0us/step\n"
     ]
    }
   ],
   "source": [
    "\n",
    "# Convert the images and labels to NumPy arrays\n",
    "images = np.array(images)\n",
    "labels = np.array(labels)\n",
    "\n",
    "# Encode labels into integer values\n",
    "label_encoder = LabelEncoder()\n",
    "labels = label_encoder.fit_transform(labels)\n",
    "\n",
    "# Perform one-hot encoding on the labels\n",
    "num_classes = len(label_mapping)\n",
    "labels = to_categorical(labels, num_classes)\n",
    "\n",
    "# Split the data into training and testing sets\n",
    "X_train, X_test, y_train, y_test = train_test_split(images, labels, test_size=0.2, random_state=42)\n",
    "\n",
    "# Create a ResNet50 model\n",
    "base_model = ResNet50(weights='imagenet', include_top=False, input_shape=(image_size[0], image_size[1], 3))\n",
    "\n",
    "# Freeze the base model layers\n",
    "for layer in base_model.layers:\n",
    "    layer.trainable = False"
   ]
  },
  {
   "cell_type": "code",
   "execution_count": 5,
   "id": "47be9b52-677a-4cd4-b04f-df42bfe236d2",
   "metadata": {},
   "outputs": [
    {
     "name": "stdout",
     "output_type": "stream",
     "text": [
      "Epoch 1/10\n",
      "106/106 [==============================] - 71s 653ms/step - loss: 1.4692 - accuracy: 0.7427 - val_loss: 0.5699 - val_accuracy: 0.8744\n",
      "Epoch 2/10\n",
      "106/106 [==============================] - 68s 643ms/step - loss: 0.3115 - accuracy: 0.9022 - val_loss: 0.4735 - val_accuracy: 0.8543\n",
      "Epoch 3/10\n",
      "106/106 [==============================] - 72s 676ms/step - loss: 0.1973 - accuracy: 0.9374 - val_loss: 0.3642 - val_accuracy: 0.9076\n",
      "Epoch 4/10\n",
      "106/106 [==============================] - 69s 654ms/step - loss: 0.1006 - accuracy: 0.9621 - val_loss: 0.3991 - val_accuracy: 0.9017\n",
      "Epoch 5/10\n",
      "106/106 [==============================] - 71s 670ms/step - loss: 0.0698 - accuracy: 0.9748 - val_loss: 0.3871 - val_accuracy: 0.9028\n",
      "Epoch 6/10\n",
      "106/106 [==============================] - 73s 691ms/step - loss: 0.0601 - accuracy: 0.9775 - val_loss: 0.4595 - val_accuracy: 0.8934\n",
      "Epoch 7/10\n",
      "106/106 [==============================] - 72s 683ms/step - loss: 0.0941 - accuracy: 0.9680 - val_loss: 0.5885 - val_accuracy: 0.8768\n",
      "Epoch 8/10\n",
      "106/106 [==============================] - 70s 666ms/step - loss: 0.0555 - accuracy: 0.9801 - val_loss: 0.4408 - val_accuracy: 0.9135\n",
      "Epoch 9/10\n",
      "106/106 [==============================] - 73s 687ms/step - loss: 0.0550 - accuracy: 0.9822 - val_loss: 0.5330 - val_accuracy: 0.8969\n",
      "Epoch 10/10\n",
      "106/106 [==============================] - 62s 588ms/step - loss: 0.0271 - accuracy: 0.9911 - val_loss: 0.4965 - val_accuracy: 0.8922\n",
      "INFO:tensorflow:Assets written to: model_saved/assets\n"
     ]
    },
    {
     "name": "stderr",
     "output_type": "stream",
     "text": [
      "INFO:tensorflow:Assets written to: model_saved/assets\n"
     ]
    }
   ],
   "source": [
    "\n",
    "# Create a new model on top\n",
    "model = Sequential()\n",
    "model.add(base_model)\n",
    "model.add(Flatten())\n",
    "model.add(Dense(64, activation='relu'))\n",
    "model.add(Dense(num_classes, activation='softmax'))\n",
    "\n",
    "# Compile the model\n",
    "model.compile(optimizer='adam', loss='categorical_crossentropy', metrics=['accuracy'])\n",
    "\n",
    "# Train the model\n",
    "history = model.fit(X_train, y_train, epochs=10, batch_size=32, validation_data=(X_test, y_test))\n",
    "\n",
    "# Save the entire model as a SavedModel\n",
    "model.save('model_saved')\n",
    "\n",
    "# Save the label encoder classes\n",
    "np.save('label_encoder_classes.npy', label_encoder.classes_)"
   ]
  },
  {
   "cell_type": "code",
   "execution_count": 6,
   "id": "9de7aa6b-504f-4c3a-b5c4-18986464db5b",
   "metadata": {},
   "outputs": [
    {
     "name": "stdout",
     "output_type": "stream",
     "text": [
      "27/27 [==============================] - 11s 413ms/step - loss: 0.4965 - accuracy: 0.8922\n",
      "Test Loss: 0.49646273255348206\n",
      "Test Accuracy: 0.8921800851821899\n",
      "27/27 [==============================] - 12s 409ms/step\n",
      "Confusion Matrix:\n",
      "[[196   0  26  11]\n",
      " [  0 221   2   1]\n",
      " [  3   1 173  11]\n",
      " [  2   0  34 163]]\n",
      "Classification Report:\n",
      "                      precision    recall  f1-score   support\n",
      "\n",
      "            cataract       0.98      0.84      0.90       233\n",
      "diabetic_retinopathy       1.00      0.99      0.99       224\n",
      "            glaucoma       0.74      0.92      0.82       188\n",
      "              normal       0.88      0.82      0.85       199\n",
      "\n",
      "            accuracy                           0.89       844\n",
      "           macro avg       0.90      0.89      0.89       844\n",
      "        weighted avg       0.90      0.89      0.89       844\n",
      "\n"
     ]
    }
   ],
   "source": [
    "# Evaluate the model on the testing set\n",
    "loss, accuracy = model.evaluate(X_test, y_test)\n",
    "print(\"Test Loss:\", loss)\n",
    "print(\"Test Accuracy:\", accuracy)\n",
    "\n",
    "# Generate predictions on the testing set\n",
    "y_pred = model.predict(X_test)\n",
    "y_pred = np.argmax(y_pred, axis=1)\n",
    "y_test = np.argmax(y_test, axis=1)\n",
    "\n",
    "# Generate confusion matrix\n",
    "cm = confusion_matrix(y_test, y_pred)\n",
    "print(\"Confusion Matrix:\")\n",
    "print(cm)\n",
    "\n",
    "# Calculate precision, recall, and F1 score\n",
    "classification_rep = classification_report(y_test, y_pred, target_names=label_mapping.keys())\n",
    "print(\"Classification Report:\")\n",
    "print(classification_rep)\n"
   ]
  },
  {
   "cell_type": "code",
   "execution_count": 7,
   "id": "812938f2-926b-4e05-ba2f-72345db97b0d",
   "metadata": {},
   "outputs": [
    {
     "data": {
      "image/png": "[encoded data removed]",
      "text/plain": [
       "<Figure size 640x480 with 1 Axes>"
      ]
     },
     "metadata": {},
     "output_type": "display_data"
    }
   ],
   "source": [
    "\n",
    "# Plot accuracy metrics\n",
    "plt.plot(history.history['accuracy'])\n",
    "plt.plot(history.history['val_accuracy'])\n",
    "plt.title('Model Accuracy')\n",
    "plt.xlabel('Epoch')\n",
    "plt.ylabel('Accuracy')\n",
    "plt.legend(['Train', 'Test'], loc='upper left')\n",
    "plt.show()"
   ]
  }
 ],
 "metadata": {
  "kernelspec": {
   "display_name": "Python 3 (ipykernel)",
   "language": "python",
   "name": "python3"
  },
  "language_info": {
   "codemirror_mode": {
    "name": "ipython",
    "version": 3
   },
   "file_extension": ".py",
   "mimetype": "text/x-python",
   "name": "python",
   "nbconvert_exporter": "python",
   "pygments_lexer": "ipython3",
   "version": "3.10.12"
  }
 },
 "nbformat": 4,
 "nbformat_minor": 5
}
